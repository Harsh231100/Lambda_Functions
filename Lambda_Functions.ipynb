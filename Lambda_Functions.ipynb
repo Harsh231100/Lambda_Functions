{
 "cells": [
  {
   "cell_type": "markdown",
   "id": "620da995",
   "metadata": {},
   "source": [
    "# Lambda function"
   ]
  },
  {
   "cell_type": "markdown",
   "id": "0e020346",
   "metadata": {},
   "source": [
    "* Python Lambda Functions are anonymous function means that the function is without a name.The lambda keyword is used to define an anonymous function in Python. \n",
    "\n",
    "* These functions are called as anonymous functions\n",
    "\n",
    "* These are defined in a single line\n",
    "\n",
    "* these func by default will return a value, no need to write a return statement\n"
   ]
  },
  {
   "cell_type": "markdown",
   "id": "ceffc3af",
   "metadata": {},
   "source": [
    "* syntax for labda functions\n",
    "\n",
    "    * lambda var/s:<statement/s using these var/s>\n"
   ]
  },
  {
   "cell_type": "code",
   "execution_count": 1,
   "id": "7eccba77",
   "metadata": {},
   "outputs": [
    {
     "data": {
      "text/plain": [
       "5"
      ]
     },
     "execution_count": 1,
     "metadata": {},
     "output_type": "execute_result"
    }
   ],
   "source": [
    "(lambda x,y : x+y)(2,3)"
   ]
  },
  {
   "cell_type": "code",
   "execution_count": 13,
   "id": "bed5a99f",
   "metadata": {},
   "outputs": [
    {
     "data": {
      "text/plain": [
       "[27]"
      ]
     },
     "execution_count": 13,
     "metadata": {},
     "output_type": "execute_result"
    }
   ],
   "source": [
    "(lambda x:[x**3])(3)"
   ]
  },
  {
   "cell_type": "code",
   "execution_count": 3,
   "id": "a2a8c7b8",
   "metadata": {},
   "outputs": [
    {
     "data": {
      "text/plain": [
       "([10, 12, 14, 16, 18, 20], [11, 13, 15, 17, 19])"
      ]
     },
     "execution_count": 3,
     "metadata": {},
     "output_type": "execute_result"
    }
   ],
   "source": [
    "# find even and odd value by lambda function.\n",
    "\n",
    "(lambda x,y: ([ele for ele in range(x,y+1) if ele%2==0],[ele for ele in range(x,y+1) if ele%2!=0]))(10,20)"
   ]
  },
  {
   "cell_type": "markdown",
   "id": "2a87e0ad",
   "metadata": {},
   "source": [
    "## map functions"
   ]
  },
  {
   "cell_type": "markdown",
   "id": "c8ff6df7",
   "metadata": {},
   "source": [
    "* The Map() function takes a function and a list as input.\n",
    "* Map() performs an operation on the entire list and return the result in a new list\n",
    "\n",
    "* we use map function to apply our function on each element of an iterator.\n",
    "* op of map function is a map object, we need to type cast it to a list or other data type to see the ор"
   ]
  },
  {
   "cell_type": "markdown",
   "id": "afc68309",
   "metadata": {},
   "source": [
    "* map() function in Python is used to apply the transformation to an iterable object like a list, tuple, or set e.t.c, this applies the given transformation function to each item of an iterable (e.g., list, tuple, set). You can combine this with a lambda function.\n",
    "\n",
    "* syntax of map function\n",
    "\n",
    "    * map(func, iterator)\n"
   ]
  },
  {
   "cell_type": "code",
   "execution_count": 15,
   "id": "f7685b64",
   "metadata": {},
   "outputs": [
    {
     "data": {
      "text/plain": [
       "<map at 0x199d534edd0>"
      ]
     },
     "execution_count": 15,
     "metadata": {},
     "output_type": "execute_result"
    }
   ],
   "source": [
    "a = map(lambda x: x**2, [10,20,30])\n",
    "a"
   ]
  },
  {
   "cell_type": "code",
   "execution_count": 16,
   "id": "bc774be7",
   "metadata": {},
   "outputs": [
    {
     "data": {
      "text/plain": [
       "[100, 400, 900]"
      ]
     },
     "execution_count": 16,
     "metadata": {},
     "output_type": "execute_result"
    }
   ],
   "source": [
    "list(a)"
   ]
  },
  {
   "cell_type": "code",
   "execution_count": 17,
   "id": "ac29ad88",
   "metadata": {},
   "outputs": [
    {
     "data": {
      "text/plain": [
       "<map at 0x199d534e5c0>"
      ]
     },
     "execution_count": 17,
     "metadata": {},
     "output_type": "execute_result"
    }
   ],
   "source": [
    "z = map(lambda x: x/0, [1,2,3])\n",
    "z"
   ]
  },
  {
   "cell_type": "code",
   "execution_count": 19,
   "id": "a557339a",
   "metadata": {},
   "outputs": [],
   "source": [
    "#list(z)      #uncomment to see the error because division by zero is not possible."
   ]
  },
  {
   "cell_type": "code",
   "execution_count": 23,
   "id": "b992aba0",
   "metadata": {},
   "outputs": [
    {
     "data": {
      "text/plain": [
       "[45, 68]"
      ]
     },
     "execution_count": 23,
     "metadata": {},
     "output_type": "execute_result"
    }
   ],
   "source": [
    "a = map(lambda x,y: x+y ,[12,24],[33,44])\n",
    "list(a)"
   ]
  },
  {
   "cell_type": "code",
   "execution_count": 24,
   "id": "a0dd0dd4",
   "metadata": {},
   "outputs": [
    {
     "data": {
      "text/plain": [
       "[1, 4, 27]"
      ]
     },
     "execution_count": 24,
     "metadata": {},
     "output_type": "execute_result"
    }
   ],
   "source": [
    "list(map(lambda x:x**x,[1,2,3]))"
   ]
  },
  {
   "cell_type": "code",
   "execution_count": 25,
   "id": "c1aefb25",
   "metadata": {},
   "outputs": [
    {
     "data": {
      "text/plain": [
       "[1, 4, 27, 256, 3125]"
      ]
     },
     "execution_count": 25,
     "metadata": {},
     "output_type": "execute_result"
    }
   ],
   "source": [
    "a = map(lambda x,y: x**y ,[1,2,3,4,5],[1,2,3,4,5])\n",
    "list(a)"
   ]
  },
  {
   "cell_type": "markdown",
   "id": "496fe0cb",
   "metadata": {},
   "source": [
    "## filter function"
   ]
  },
  {
   "cell_type": "markdown",
   "id": "ef31c476",
   "metadata": {},
   "source": [
    "* The filter() function in Python takes in a function and a list as arguments. This offers an elegant way to filter out all the elements of a sequence “sequence”, for which the function returns True.\n",
    "* Filter() is used to create a list of elements for which a function returns “True”.\n",
    "* Syntax-\n",
    "    * filter( function that returns True, list)"
   ]
  },
  {
   "cell_type": "code",
   "execution_count": 26,
   "id": "67e0d901",
   "metadata": {},
   "outputs": [
    {
     "data": {
      "text/plain": [
       "[2, 4]"
      ]
     },
     "execution_count": 26,
     "metadata": {},
     "output_type": "execute_result"
    }
   ],
   "source": [
    "#filter the even numbers,given in a list.\n",
    "\n",
    "a = (filter(lambda x:True if x%2==0 else False,[1,2,3,4,5]))\n",
    "list(a)"
   ]
  },
  {
   "cell_type": "code",
   "execution_count": 27,
   "id": "88e43553",
   "metadata": {},
   "outputs": [
    {
     "data": {
      "text/plain": [
       "['a', 'i']"
      ]
     },
     "execution_count": 27,
     "metadata": {},
     "output_type": "execute_result"
    }
   ],
   "source": [
    "#filter a vowels in a given string.\n",
    "\n",
    "list(filter(lambda x:True if x in 'aeiouAEIOU' else False,'Harshit'))"
   ]
  },
  {
   "cell_type": "code",
   "execution_count": 29,
   "id": "83886794",
   "metadata": {},
   "outputs": [
    {
     "data": {
      "text/plain": [
       "['h', 'a', 'r', 's', 'h', '1', '2']"
      ]
     },
     "execution_count": 29,
     "metadata": {},
     "output_type": "execute_result"
    }
   ],
   "source": [
    "#filter a alphabet & number given in a string.\n",
    "\n",
    "list(filter(lambda x:True if x.isalnum() else False,'harsh@#$%12@'))"
   ]
  },
  {
   "cell_type": "code",
   "execution_count": 31,
   "id": "6b82704b",
   "metadata": {},
   "outputs": [
    {
     "data": {
      "text/plain": [
       "['@', '#', '$', '%', '@']"
      ]
     },
     "execution_count": 31,
     "metadata": {},
     "output_type": "execute_result"
    }
   ],
   "source": [
    "#filter a special char. given in a string.\n",
    "\n",
    "list(filter(lambda x:True if x.isalnum() is False else False,'harsh@#$%12@'))"
   ]
  },
  {
   "cell_type": "markdown",
   "id": "97b7fabf",
   "metadata": {},
   "source": [
    "## reduce function"
   ]
  },
  {
   "cell_type": "markdown",
   "id": "e3e929da",
   "metadata": {},
   "source": [
    "* The reduce() function in Python takes in a function and a list as an argument. The function is called with a lambda function and an iterable and a new reduced result is returned. \n",
    "* This performs a repetitive operation over the pairs of the iterable.\n",
    "* Syntax-\n",
    "    * reduce(function , list)\n",
    "* This function is defined in “functools” module."
   ]
  },
  {
   "cell_type": "code",
   "execution_count": 43,
   "id": "6fe0bd25",
   "metadata": {},
   "outputs": [],
   "source": [
    "import functools"
   ]
  },
  {
   "cell_type": "code",
   "execution_count": 38,
   "id": "f50c9bcc",
   "metadata": {},
   "outputs": [
    {
     "data": {
      "text/plain": [
       "150"
      ]
     },
     "execution_count": 38,
     "metadata": {},
     "output_type": "execute_result"
    }
   ],
   "source": [
    "functools.reduce(lambda x,y:x+y,[10,20,30,40,50])  # reduce() add first two elements then goes to another elements."
   ]
  },
  {
   "cell_type": "code",
   "execution_count": 45,
   "id": "fced7670",
   "metadata": {},
   "outputs": [
    {
     "data": {
      "text/plain": [
       "720"
      ]
     },
     "execution_count": 45,
     "metadata": {},
     "output_type": "execute_result"
    }
   ],
   "source": [
    "functools.reduce(lambda x,y:x*y,[1,2,3,4,5,6])  # reduce() multiply first two elements then goes to another elements."
   ]
  },
  {
   "cell_type": "code",
   "execution_count": null,
   "id": "1f78ef97",
   "metadata": {},
   "outputs": [],
   "source": []
  }
 ],
 "metadata": {
  "kernelspec": {
   "display_name": "Python 3 (ipykernel)",
   "language": "python",
   "name": "python3"
  },
  "language_info": {
   "codemirror_mode": {
    "name": "ipython",
    "version": 3
   },
   "file_extension": ".py",
   "mimetype": "text/x-python",
   "name": "python",
   "nbconvert_exporter": "python",
   "pygments_lexer": "ipython3",
   "version": "3.11.5"
  }
 },
 "nbformat": 4,
 "nbformat_minor": 5
}
